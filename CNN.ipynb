{
 "cells": [
  {
   "cell_type": "markdown",
   "metadata": {},
   "source": [
    "# Convolutionnal NN"
   ]
  },
  {
   "cell_type": "code",
   "execution_count": null,
   "metadata": {
    "collapsed": false
   },
   "outputs": [],
   "source": [
    "from keras.layers import Activation, Dense, Dropout, Embedding, Flatten, Input, Merge, Convolution1D, MaxPooling1D\n",
    "import numpy as np\n",
    "import pickle\n",
    "import matplotlib.pyplot as plt\n",
    "from mpl_toolkits.mplot3d import Axes3D\n",
    "from scipy.sparse import *\n",
    "from sklearn import preprocessing\n",
    "from sklearn.model_selection import GridSearchCV\n",
    "from sklearn.model_selection import train_test_split\n",
    "from sklearn.decomposition import PCA\n",
    "from keras.optimizers import SGD\n",
    "from keras.models import Model, Sequential\n",
    "from keras.constraints import maxnorm\n",
    "from keras.preprocessing import sequence\n",
    "from keras.wrappers.scikit_learn import KerasClassifier\n",
    "import pandas as pd\n",
    "import csv\n",
    "from keras.models import model_from_json"
   ]
  },
  {
   "cell_type": "code",
   "execution_count": null,
   "metadata": {
    "collapsed": false
   },
   "outputs": [],
   "source": [
    "##------Load data small samples\n",
    "X=np.load('tweets_emb_nltk_conv.npy')\n",
    "y=np.load('tweets_sol_nltk.npy')\n",
    "##-------full data\n",
    "X_full=np.load('tweets_emb_nltk_conv_full.npy')\n",
    "y_full=np.load('tweets_sol_nltk_full.npy')\n",
    "#----test data to give\n",
    "X_test=np.load('tweets_emb_nltk_conv_test.npy')\n",
    "##--- Step 1\n",
    "#X1_full=preprocessing.scale(X_full)\n",
    "#X1_test=preprocessing.scale(X_test)\n",
    "\n",
    "with open('vocab_nltk.pkl', 'rb') as f:\n",
    "    vocabulary = pickle.load(f)\n",
    "embedding_weights=np.load('embeddings_nltk.npy')\n",
    "embedding_weights = embedding_weights[np.newaxis, :, :]\n",
    "print(embedding_weights.shape)\n",
    "#embedding_weights= None\n",
    "\n",
    "print(X_full.shape)\n",
    "print(y_full.shape)\n"
   ]
  },
  {
   "cell_type": "code",
   "execution_count": null,
   "metadata": {
    "collapsed": false
   },
   "outputs": [],
   "source": [
    "## find the longest word sequence in the tweets\n",
    "sequence_length=0\n",
    "for i in range(len(y_full)):\n",
    "    if len(X_full[i])>55:\n",
    "        print(i)\n",
    "    if (len(X_full[i])>sequence_length):\n",
    "        sequence_length=len(X_full[i])\n",
    "        \n",
    "## Here we choose to set it to 56 because the only a few were above\n",
    "sequence_length=56\n",
    "print(sequence_length)\n"
   ]
  },
  {
   "cell_type": "code",
   "execution_count": null,
   "metadata": {
    "collapsed": false
   },
   "outputs": [],
   "source": [
    "## PAD all the sequences to the same length (add 0 in the beginning of the words that are smaller, cut the longer)\n",
    "\n",
    "X2_full = sequence.pad_sequences(X_full,maxlen=sequence_length)\n",
    "X2= sequence.pad_sequences(X,maxlen=sequence_length)\n",
    "X2_test= sequence.pad_sequences(X_test,maxlen=sequence_length)"
   ]
  },
  {
   "cell_type": "code",
   "execution_count": null,
   "metadata": {
    "collapsed": true
   },
   "outputs": [],
   "source": [
    "# Model Hyperparameters\n",
    "np.random.seed(2)\n",
    " \n",
    "embedding_dim = 20          \n",
    "filter_sizes = (3, 4)\n",
    "num_filters = 3\n",
    "dropout_prob = (0.7, 0.8)\n",
    "hidden_dims = 100\n",
    "\n",
    "# Training parameters\n",
    "batch_size = 32\n",
    "val_split = 0.1"
   ]
  },
  {
   "cell_type": "code",
   "execution_count": null,
   "metadata": {
    "collapsed": false
   },
   "outputs": [],
   "source": [
    "## Create the model\n",
    "# graph_in check the imput dimension of the 2 filter pool combination \n",
    "graph_in = Input(shape=(sequence_length, embedding_dim))\n",
    "convs = []\n",
    "## Create the filters + pools\n",
    "for fsz in filter_sizes:\n",
    "    conv = Convolution1D(nb_filter=num_filters,\n",
    "                         filter_length=fsz,\n",
    "                         border_mode='valid',\n",
    "                         activation='relu',\n",
    "                         subsample_length=1)(graph_in)\n",
    "    pool = MaxPooling1D(pool_length=2)(conv)\n",
    "    flatten = Flatten()(pool)\n",
    "    convs.append(flatten)\n",
    "    \n",
    "if len(filter_sizes)>1:\n",
    "    out = Merge(mode='concat')(convs)\n",
    "else:\n",
    "    out = convs[0]\n",
    "\n",
    "graph = Model(input=graph_in, output=out)\n",
    "\n",
    "# create the embedding layer, drop out, fliters + pools and dense layer finishes by a calssification with sigmoid\n",
    "model = Sequential()\n",
    "model.add(Embedding(len(vocabulary), embedding_dim, input_length=sequence_length,weights=embedding_weights))\n",
    "model.add(Dropout(dropout_prob[0], input_shape=(sequence_length, embedding_dim)))\n",
    "model.add(graph)\n",
    "model.add(Dense(hidden_dims))\n",
    "model.add(Dropout(dropout_prob[1]))\n",
    "model.add(Activation('relu'))\n",
    "model.add(Dense(1))\n",
    "model.add(Activation('sigmoid'))\n",
    "model.compile(loss='binary_crossentropy', optimizer='rmsprop', metrics=['accuracy'])\n",
    "\n"
   ]
  },
  {
   "cell_type": "code",
   "execution_count": null,
   "metadata": {
    "collapsed": true
   },
   "outputs": [],
   "source": [
    "## Allow to easily save the weights\n",
    "def save_model(model):\n",
    "    # saving model\n",
    "    json_model = model.to_json()\n",
    "    open('model_architecture.json', 'w').write(json_model)\n",
    "    # saving weights\n",
    "    model.save_weights('model_weights.h5', overwrite=True) \n",
    "\n",
    "def load_model():\n",
    "    # loading model\n",
    "    model = model_from_json(open('model_architecture.json').read())\n",
    "    model.load_weights('model_weights.h5')\n",
    "    model.compile(loss='binary_crossentropy', optimizer='rmsprop', metrics=['accuracy'])\n",
    "    return model"
   ]
  },
  {
   "cell_type": "code",
   "execution_count": null,
   "metadata": {
    "collapsed": false,
    "scrolled": true
   },
   "outputs": [],
   "source": [
    "## create the model Here we can choose the data to fit\n",
    "# the model shows at the end of an epoch the split validation with 10% of untrained data\n",
    "model.fit(X2, y, batch_size=batch_size,\n",
    "nb_epoch=50, validation_split=val_split, verbose=1)\n",
    "save_model(model)"
   ]
  },
  {
   "cell_type": "code",
   "execution_count": null,
   "metadata": {
    "collapsed": false
   },
   "outputs": [],
   "source": [
    "loaded=load_model()"
   ]
  },
  {
   "cell_type": "code",
   "execution_count": null,
   "metadata": {
    "collapsed": false
   },
   "outputs": [],
   "source": [
    "## Allow a second Validation (if not train with those data)\n",
    "score = model.evaluate(X2_full, y_full, verbose=1)\n",
    "print (\"%s: %.2f%%\" % (model.metrics_names[1], score[1]*100))"
   ]
  },
  {
   "cell_type": "markdown",
   "metadata": {},
   "source": [
    "#### Rendu"
   ]
  },
  {
   "cell_type": "code",
   "execution_count": null,
   "metadata": {
    "collapsed": true
   },
   "outputs": [],
   "source": [
    "# predict the result (with one and zeroes) \n",
    "y_pred = model.predict(X2_test)"
   ]
  },
  {
   "cell_type": "code",
   "execution_count": null,
   "metadata": {
    "collapsed": true
   },
   "outputs": [],
   "source": [
    "def create_csv_submission(ids, y_pred, name):\n",
    "    \"\"\"\n",
    "    Creates an output file in csv format for submission to kaggle\n",
    "    Arguments: ids (event ids associated with each prediction)\n",
    "               y_pred (predicted class labels)\n",
    "               name (string name of .csv output file to be created)\n",
    "    \"\"\"\n",
    "    with open(name, 'w') as csvfile:\n",
    "        fieldnames = ['Id', 'Prediction']\n",
    "        writer = csv.DictWriter(csvfile, delimiter=\",\", fieldnames=fieldnames)\n",
    "        writer.writeheader()\n",
    "        for r1, r2 in zip(ids, y_pred):\n",
    "            writer.writerow({'Id':int(r1),'Prediction':int(r2)})"
   ]
  },
  {
   "cell_type": "code",
   "execution_count": null,
   "metadata": {
    "collapsed": true
   },
   "outputs": [],
   "source": [
    "y_rendu=[]\n",
    "for i in range(len(y_pred)):\n",
    "    if y_pred[i]>= 0.5:\n",
    "        y_rendu.append(1)\n",
    "    else: y_rendu.append(-1)\n",
    "        \n",
    "OUTPUT_PATH = 'prediction.csv' \n",
    "ids_test=[i+1 for i in range(len(y_rendu))]\n",
    "create_csv_submission(ids_test, y_rendu, OUTPUT_PATH)"
   ]
  },
  {
   "cell_type": "code",
   "execution_count": null,
   "metadata": {
    "collapsed": true
   },
   "outputs": [],
   "source": []
  }
 ],
 "metadata": {
  "anaconda-cloud": {},
  "kernelspec": {
   "display_name": "Python [Root]",
   "language": "python",
   "name": "Python [Root]"
  },
  "language_info": {
   "codemirror_mode": {
    "name": "ipython",
    "version": 3
   },
   "file_extension": ".py",
   "mimetype": "text/x-python",
   "name": "python",
   "nbconvert_exporter": "python",
   "pygments_lexer": "ipython3",
   "version": "3.5.2"
  }
 },
 "nbformat": 4,
 "nbformat_minor": 0
}
